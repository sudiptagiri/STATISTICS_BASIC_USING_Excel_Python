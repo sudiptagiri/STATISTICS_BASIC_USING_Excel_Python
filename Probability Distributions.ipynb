{
 "cells": [
  {
   "cell_type": "markdown",
   "metadata": {},
   "source": [
    "#### Permutations and Combinations\n",
    "The number of ways in which we can arrange a set of elements."
   ]
  },
  {
   "cell_type": "code",
   "execution_count": 2,
   "metadata": {},
   "outputs": [
    {
     "name": "stdout",
     "output_type": "stream",
     "text": [
      "('Alex', 'Bhavesh', 'Chandrika', 'Rohan')\n",
      "('Alex', 'Bhavesh', 'Rohan', 'Chandrika')\n",
      "('Alex', 'Chandrika', 'Bhavesh', 'Rohan')\n",
      "('Alex', 'Chandrika', 'Rohan', 'Bhavesh')\n",
      "('Alex', 'Rohan', 'Bhavesh', 'Chandrika')\n",
      "('Alex', 'Rohan', 'Chandrika', 'Bhavesh')\n",
      "('Bhavesh', 'Alex', 'Chandrika', 'Rohan')\n",
      "('Bhavesh', 'Alex', 'Rohan', 'Chandrika')\n",
      "('Bhavesh', 'Chandrika', 'Alex', 'Rohan')\n",
      "('Bhavesh', 'Chandrika', 'Rohan', 'Alex')\n",
      "('Bhavesh', 'Rohan', 'Alex', 'Chandrika')\n",
      "('Bhavesh', 'Rohan', 'Chandrika', 'Alex')\n",
      "('Chandrika', 'Alex', 'Bhavesh', 'Rohan')\n",
      "('Chandrika', 'Alex', 'Rohan', 'Bhavesh')\n",
      "('Chandrika', 'Bhavesh', 'Alex', 'Rohan')\n",
      "('Chandrika', 'Bhavesh', 'Rohan', 'Alex')\n",
      "('Chandrika', 'Rohan', 'Alex', 'Bhavesh')\n",
      "('Chandrika', 'Rohan', 'Bhavesh', 'Alex')\n",
      "('Rohan', 'Alex', 'Bhavesh', 'Chandrika')\n",
      "('Rohan', 'Alex', 'Chandrika', 'Bhavesh')\n",
      "('Rohan', 'Bhavesh', 'Alex', 'Chandrika')\n",
      "('Rohan', 'Bhavesh', 'Chandrika', 'Alex')\n",
      "('Rohan', 'Chandrika', 'Alex', 'Bhavesh')\n",
      "('Rohan', 'Chandrika', 'Bhavesh', 'Alex')\n"
     ]
    }
   ],
   "source": [
    "from itertools import permutations\n",
    "\n",
    "seq = permutations(['Alex','Bhavesh','Chandrika',\"Rohan\"])\n",
    "\n",
    "for p in list(seq):\n",
    "    print(p)"
   ]
  },
  {
   "cell_type": "code",
   "execution_count": 5,
   "metadata": {
    "collapsed": true
   },
   "outputs": [
    {
     "name": "stdout",
     "output_type": "stream",
     "text": [
      "('p', 'y')\n",
      "('p', 't')\n",
      "('p', 'h')\n",
      "('p', 'o')\n",
      "('p', 'n')\n",
      "('y', 't')\n",
      "('y', 'h')\n",
      "('y', 'o')\n",
      "('y', 'n')\n",
      "('t', 'h')\n",
      "('t', 'o')\n",
      "('t', 'n')\n",
      "('h', 'o')\n",
      "('h', 'n')\n",
      "('o', 'n')\n"
     ]
    }
   ],
   "source": [
    "from itertools import combinations\n",
    "\n",
    "#Getting all combination of a particular length.\n",
    "combi = combinations(['p', 'y', 't', 'h', 'o', 'n'], 2)\n",
    "\n",
    "#Print the list of combinations\n",
    "\n",
    "for c in list(combi):\n",
    "    print(c)"
   ]
  },
  {
   "cell_type": "code",
   "execution_count": 7,
   "metadata": {
    "collapsed": true
   },
   "outputs": [
    {
     "name": "stdout",
     "output_type": "stream",
     "text": [
      "('p', 'y', 't')\n",
      "('p', 'y', 'h')\n",
      "('p', 'y', 'o')\n",
      "('p', 'y', 'n')\n",
      "('p', 't', 'y')\n",
      "('p', 't', 'h')\n",
      "('p', 't', 'o')\n",
      "('p', 't', 'n')\n",
      "('p', 'h', 'y')\n",
      "('p', 'h', 't')\n",
      "('p', 'h', 'o')\n",
      "('p', 'h', 'n')\n",
      "('p', 'o', 'y')\n",
      "('p', 'o', 't')\n",
      "('p', 'o', 'h')\n",
      "('p', 'o', 'n')\n",
      "('p', 'n', 'y')\n",
      "('p', 'n', 't')\n",
      "('p', 'n', 'h')\n",
      "('p', 'n', 'o')\n",
      "('y', 'p', 't')\n",
      "('y', 'p', 'h')\n",
      "('y', 'p', 'o')\n",
      "('y', 'p', 'n')\n",
      "('y', 't', 'p')\n",
      "('y', 't', 'h')\n",
      "('y', 't', 'o')\n",
      "('y', 't', 'n')\n",
      "('y', 'h', 'p')\n",
      "('y', 'h', 't')\n",
      "('y', 'h', 'o')\n",
      "('y', 'h', 'n')\n",
      "('y', 'o', 'p')\n",
      "('y', 'o', 't')\n",
      "('y', 'o', 'h')\n",
      "('y', 'o', 'n')\n",
      "('y', 'n', 'p')\n",
      "('y', 'n', 't')\n",
      "('y', 'n', 'h')\n",
      "('y', 'n', 'o')\n",
      "('t', 'p', 'y')\n",
      "('t', 'p', 'h')\n",
      "('t', 'p', 'o')\n",
      "('t', 'p', 'n')\n",
      "('t', 'y', 'p')\n",
      "('t', 'y', 'h')\n",
      "('t', 'y', 'o')\n",
      "('t', 'y', 'n')\n",
      "('t', 'h', 'p')\n",
      "('t', 'h', 'y')\n",
      "('t', 'h', 'o')\n",
      "('t', 'h', 'n')\n",
      "('t', 'o', 'p')\n",
      "('t', 'o', 'y')\n",
      "('t', 'o', 'h')\n",
      "('t', 'o', 'n')\n",
      "('t', 'n', 'p')\n",
      "('t', 'n', 'y')\n",
      "('t', 'n', 'h')\n",
      "('t', 'n', 'o')\n",
      "('h', 'p', 'y')\n",
      "('h', 'p', 't')\n",
      "('h', 'p', 'o')\n",
      "('h', 'p', 'n')\n",
      "('h', 'y', 'p')\n",
      "('h', 'y', 't')\n",
      "('h', 'y', 'o')\n",
      "('h', 'y', 'n')\n",
      "('h', 't', 'p')\n",
      "('h', 't', 'y')\n",
      "('h', 't', 'o')\n",
      "('h', 't', 'n')\n",
      "('h', 'o', 'p')\n",
      "('h', 'o', 'y')\n",
      "('h', 'o', 't')\n",
      "('h', 'o', 'n')\n",
      "('h', 'n', 'p')\n",
      "('h', 'n', 'y')\n",
      "('h', 'n', 't')\n",
      "('h', 'n', 'o')\n",
      "('o', 'p', 'y')\n",
      "('o', 'p', 't')\n",
      "('o', 'p', 'h')\n",
      "('o', 'p', 'n')\n",
      "('o', 'y', 'p')\n",
      "('o', 'y', 't')\n",
      "('o', 'y', 'h')\n",
      "('o', 'y', 'n')\n",
      "('o', 't', 'p')\n",
      "('o', 't', 'y')\n",
      "('o', 't', 'h')\n",
      "('o', 't', 'n')\n",
      "('o', 'h', 'p')\n",
      "('o', 'h', 'y')\n",
      "('o', 'h', 't')\n",
      "('o', 'h', 'n')\n",
      "('o', 'n', 'p')\n",
      "('o', 'n', 'y')\n",
      "('o', 'n', 't')\n",
      "('o', 'n', 'h')\n",
      "('n', 'p', 'y')\n",
      "('n', 'p', 't')\n",
      "('n', 'p', 'h')\n",
      "('n', 'p', 'o')\n",
      "('n', 'y', 'p')\n",
      "('n', 'y', 't')\n",
      "('n', 'y', 'h')\n",
      "('n', 'y', 'o')\n",
      "('n', 't', 'p')\n",
      "('n', 't', 'y')\n",
      "('n', 't', 'h')\n",
      "('n', 't', 'o')\n",
      "('n', 'h', 'p')\n",
      "('n', 'h', 'y')\n",
      "('n', 'h', 't')\n",
      "('n', 'h', 'o')\n",
      "('n', 'o', 'p')\n",
      "('n', 'o', 'y')\n",
      "('n', 'o', 't')\n",
      "('n', 'o', 'h')\n"
     ]
    }
   ],
   "source": [
    "seq = permutations(['p', 'y', 't', 'h', 'o', 'n'], 3)\n",
    "\n",
    "for p in list(seq):\n",
    "    print(p)"
   ]
  },
  {
   "cell_type": "code",
   "execution_count": 8,
   "metadata": {
    "collapsed": true
   },
   "outputs": [
    {
     "name": "stdout",
     "output_type": "stream",
     "text": [
      "('prachi', 'yogesh')\n",
      "('prachi', 'tina')\n",
      "('prachi', 'hetal')\n",
      "('prachi', 'ovi')\n",
      "('prachi', 'riya')\n",
      "('yogesh', 'tina')\n",
      "('yogesh', 'hetal')\n",
      "('yogesh', 'ovi')\n",
      "('yogesh', 'riya')\n",
      "('tina', 'hetal')\n",
      "('tina', 'ovi')\n",
      "('tina', 'riya')\n",
      "('hetal', 'ovi')\n",
      "('hetal', 'riya')\n",
      "('ovi', 'riya')\n"
     ]
    }
   ],
   "source": [
    "combi = combinations(['prachi', 'yogesh', 'tina', 'hetal', \n",
    "                      'ovi', 'riya'], 2)\n",
    "\n",
    "#Print the list of combinations\n",
    "\n",
    "for c in list(combi):\n",
    "    print(c)"
   ]
  },
  {
   "cell_type": "code",
   "execution_count": 9,
   "metadata": {},
   "outputs": [
    {
     "name": "stdout",
     "output_type": "stream",
     "text": [
      "(1, 1, 1)\n",
      "(1, 1, 2)\n",
      "(1, 1, 3)\n",
      "(1, 1, 4)\n",
      "(1, 1, 5)\n",
      "(1, 1, 6)\n",
      "(1, 2, 2)\n",
      "(1, 2, 3)\n",
      "(1, 2, 4)\n",
      "(1, 2, 5)\n",
      "(1, 2, 6)\n",
      "(1, 3, 3)\n",
      "(1, 3, 4)\n",
      "(1, 3, 5)\n",
      "(1, 3, 6)\n",
      "(1, 4, 4)\n",
      "(1, 4, 5)\n",
      "(1, 4, 6)\n",
      "(1, 5, 5)\n",
      "(1, 5, 6)\n",
      "(1, 6, 6)\n",
      "(2, 2, 2)\n",
      "(2, 2, 3)\n",
      "(2, 2, 4)\n",
      "(2, 2, 5)\n",
      "(2, 2, 6)\n",
      "(2, 3, 3)\n",
      "(2, 3, 4)\n",
      "(2, 3, 5)\n",
      "(2, 3, 6)\n",
      "(2, 4, 4)\n",
      "(2, 4, 5)\n",
      "(2, 4, 6)\n",
      "(2, 5, 5)\n",
      "(2, 5, 6)\n",
      "(2, 6, 6)\n",
      "(3, 3, 3)\n",
      "(3, 3, 4)\n",
      "(3, 3, 5)\n",
      "(3, 3, 6)\n",
      "(3, 4, 4)\n",
      "(3, 4, 5)\n",
      "(3, 4, 6)\n",
      "(3, 5, 5)\n",
      "(3, 5, 6)\n",
      "(3, 6, 6)\n",
      "(4, 4, 4)\n",
      "(4, 4, 5)\n",
      "(4, 4, 6)\n",
      "(4, 5, 5)\n",
      "(4, 5, 6)\n",
      "(4, 6, 6)\n",
      "(5, 5, 5)\n",
      "(5, 5, 6)\n",
      "(5, 6, 6)\n",
      "(6, 6, 6)\n"
     ]
    }
   ],
   "source": [
    "from itertools import combinations_with_replacement \n",
    "  \n",
    "# Get all combinations of [1, 2, 3, 4, 5, 6] and length 3 \n",
    "comb = combinations_with_replacement([1, 2, 3, 4, 5, 6], 3) \n",
    "  \n",
    "# Print the obtained combinations \n",
    "for i in list(comb): \n",
    "    print(i) "
   ]
  },
  {
   "cell_type": "markdown",
   "metadata": {},
   "source": [
    "### Bernoulli's Distribution\n",
    "Consider titanic survival where surviving is the success and it's probability is 0.7. Generate it's PMF"
   ]
  },
  {
   "cell_type": "code",
   "execution_count": null,
   "metadata": {},
   "outputs": [],
   "source": [
    "from scipy import stats\n",
    "x=[0,1]\n",
    "p=0.7\n",
    "stats.bernoulli.pmf(x,p)"
   ]
  },
  {
   "cell_type": "code",
   "execution_count": null,
   "metadata": {},
   "outputs": [],
   "source": [
    "?stats.bernoulli.pmf"
   ]
  },
  {
   "cell_type": "code",
   "execution_count": null,
   "metadata": {},
   "outputs": [],
   "source": [
    "x=[0,1]\n",
    "p=0.7\n",
    "\n",
    "stats.bernoulli.cdf(x,p)"
   ]
  },
  {
   "cell_type": "markdown",
   "metadata": {},
   "source": [
    "Generate a random space having 100 values in a bernoulli distribution with p=0.75"
   ]
  },
  {
   "cell_type": "code",
   "execution_count": null,
   "metadata": {},
   "outputs": [],
   "source": [
    "p=0.75\n",
    "rs=stats.bernoulli.rvs(p, size=100)\n",
    "rs"
   ]
  },
  {
   "cell_type": "code",
   "execution_count": null,
   "metadata": {},
   "outputs": [],
   "source": []
  },
  {
   "cell_type": "markdown",
   "metadata": {},
   "source": [
    "#### Binomial Distribution\n",
    "Huge Fruit Basket (HFB) is a grocery shop that sells fruits. It is observed that 20% of their customers complain about the fruits purchased by them for many reasons (bad quality, foul smell and less quantity). On Friday, 30 customers purchased fruits from HFB.\n",
    "\n",
    "Calculate the probability that exactly 10 customers will complain about the purchased products."
   ]
  },
  {
   "cell_type": "code",
   "execution_count": null,
   "metadata": {},
   "outputs": [],
   "source": [
    "prob = stats.binom.pmf(10, 30, 0.2) \n",
    "prob*100"
   ]
  },
  {
   "cell_type": "code",
   "execution_count": null,
   "metadata": {},
   "outputs": [],
   "source": [
    "prob = stats.binom.cdf(10, 30, 0.2) \n",
    "prob*100"
   ]
  },
  {
   "cell_type": "markdown",
   "metadata": {},
   "source": [
    "Calculate the probability that maximum of 8 customers will complain about the fruits purchased by them."
   ]
  },
  {
   "cell_type": "code",
   "execution_count": null,
   "metadata": {},
   "outputs": [],
   "source": [
    "#P(X<=8)\n",
    "prob = stats.binom.cdf(8, 30, 0.2) \n",
    "prob"
   ]
  },
  {
   "cell_type": "markdown",
   "metadata": {},
   "source": [
    "Calculate the probability that more than 10 customers will complain about the fruits purchased by them."
   ]
  },
  {
   "cell_type": "code",
   "execution_count": null,
   "metadata": {},
   "outputs": [],
   "source": [
    "#P(X>10)\n",
    "prob = 1 - stats.binom.cdf(10, 30, 0.2)\n",
    "prob"
   ]
  },
  {
   "cell_type": "markdown",
   "metadata": {},
   "source": [
    "Find the average number of customers who are likely to complain about the fruits. Also find the variance of the number of complaints."
   ]
  },
  {
   "cell_type": "code",
   "execution_count": null,
   "metadata": {},
   "outputs": [],
   "source": [
    "average,variance,skewness,kurtosis=stats.binom.stats(30,0.2,moments='mvsk')\n",
    "print(average)\n",
    "print(variance)\n",
    "print(skewness)\n",
    "print(kurtosis)"
   ]
  },
  {
   "cell_type": "code",
   "execution_count": null,
   "metadata": {},
   "outputs": [],
   "source": [
    "?stats.binom.stats"
   ]
  },
  {
   "cell_type": "markdown",
   "metadata": {},
   "source": [
    "From the experience, it is seen that 3% of the tyres produced by the machine are defective. Out of the 15 tyres produced, find the probability that at most 2 are defective."
   ]
  },
  {
   "cell_type": "code",
   "execution_count": null,
   "metadata": {},
   "outputs": [],
   "source": [
    "stats.binom.cdf(2, 15, 0.03) "
   ]
  },
  {
   "cell_type": "markdown",
   "metadata": {},
   "source": [
    "Big Basket is a grocery shopping app that sells groceries & food materials. It is observed that 40% of their customers complain about the vegetables purchased by them for many reasons (bad quality, foul smell, and less quantity). On Sunday, 90 customers purchased vegetables from Big Basket.\n",
    "\n",
    "(i). Calculate the probability that more than 25 customers will complain about the vegetables purchased by them.\n",
    "(ii). Find the average number of customers who are likely to complain about the vegetables. Also, find the variance of the number of complaints."
   ]
  },
  {
   "cell_type": "code",
   "execution_count": null,
   "metadata": {},
   "outputs": [],
   "source": [
    "1-stats.binom.cdf(25,90,0.4)"
   ]
  },
  {
   "cell_type": "code",
   "execution_count": null,
   "metadata": {},
   "outputs": [],
   "source": [
    "mean,var = stats.binom.stats(90,0.4)\n",
    "print(mean)\n",
    "\n",
    "print(var)"
   ]
  },
  {
   "cell_type": "markdown",
   "metadata": {},
   "source": [
    "#### Poisson Distribution\n",
    "The number of customer returns in a retail chain per day follows a poisson distribution at a rate of 25 returns per day.\n",
    "\n",
    "Calculate the probability that the number of returns exceeds 30 in a day."
   ]
  },
  {
   "cell_type": "code",
   "execution_count": null,
   "metadata": {},
   "outputs": [],
   "source": [
    "from scipy import stats\n",
    "prob = 1 - stats.poisson.cdf(30, 25)\n",
    "prob"
   ]
  },
  {
   "cell_type": "markdown",
   "metadata": {},
   "source": [
    "The number of road accidents on the day follow Poisson distribution with mean equals to 3. What is the probability that on a day exactly 1 accident will happen?"
   ]
  },
  {
   "cell_type": "code",
   "execution_count": null,
   "metadata": {},
   "outputs": [],
   "source": [
    "?stats.poisson.pmf"
   ]
  },
  {
   "cell_type": "code",
   "execution_count": null,
   "metadata": {},
   "outputs": [],
   "source": [
    "stats.poisson.pmf(1, 3)"
   ]
  },
  {
   "cell_type": "markdown",
   "metadata": {},
   "source": [
    "The number of trucks crossing a bridge during the day follow a Poisson distribution with mean 22. What is the probability that on a randomly selected day 14 trucks would have crossed the bridge?"
   ]
  },
  {
   "cell_type": "code",
   "execution_count": null,
   "metadata": {},
   "outputs": [],
   "source": [
    "stats.poisson.pmf(14, 22)*100"
   ]
  },
  {
   "cell_type": "code",
   "execution_count": null,
   "metadata": {},
   "outputs": [],
   "source": []
  },
  {
   "cell_type": "markdown",
   "metadata": {},
   "source": [
    "#### Normal Distribution\n",
    "Assume a normal distribution where the mean clotting time of blood is 7.35 seconds, with a standard deviation of 0.35 seconds. What is the probability that blood clotting time will be less than 7 seconds"
   ]
  },
  {
   "cell_type": "code",
   "execution_count": null,
   "metadata": {},
   "outputs": [],
   "source": [
    "from scipy import stats\n",
    "mu=7.35\n",
    "sd=0.35\n",
    "\n",
    "# to find P(X<7)\n",
    "stats.norm.cdf(7, mu, sd)"
   ]
  },
  {
   "cell_type": "code",
   "execution_count": null,
   "metadata": {},
   "outputs": [],
   "source": [
    "stats.norm.rvs(7.35,0.35,100)"
   ]
  },
  {
   "cell_type": "markdown",
   "metadata": {},
   "source": [
    "Assume a normal distribution where the average size of the bass in a lake is 11.4 inches, with a standard deviation of 3.2 inches. Find the probability of catching a bass longer than 17 inches."
   ]
  },
  {
   "cell_type": "code",
   "execution_count": null,
   "metadata": {},
   "outputs": [],
   "source": [
    "mu=11.4\n",
    "sd=3.2\n",
    "\n",
    "# to find P(X>17)\n",
    "1-stats.norm.cdf(17,mu,sd)"
   ]
  },
  {
   "cell_type": "markdown",
   "metadata": {},
   "source": [
    "The IQ of students follows normal distribution with mean 95 and variance 10. What is the probability that the any student selected at random will have IQ more than 102?"
   ]
  },
  {
   "cell_type": "code",
   "execution_count": null,
   "metadata": {},
   "outputs": [],
   "source": [
    "# import the required library\n",
    "from scipy.stats import norm\n",
    "import numpy as np\n",
    "\n",
    "# mean of the distribution is \n",
    "mu = 95\n",
    "\n",
    "# variance of the distribution is \n",
    "var = 10\n",
    "\n",
    "# standard deviation of the distribution is \n",
    "sd = np.sqrt(var)\n",
    "\n",
    "# P(X>102)\n",
    "1 - norm.cdf(102, mu, sd)"
   ]
  },
  {
   "cell_type": "code",
   "execution_count": null,
   "metadata": {},
   "outputs": [],
   "source": []
  },
  {
   "cell_type": "markdown",
   "metadata": {},
   "source": [
    "A survey of daily travel time had these results (in minutes):  \n",
    "\n",
    "26, 33, 65, 28, 34, 55, 25, 44, 50, 36, 26, 37, 43, 62, 35, 38, 45, 32, 28, 34"
   ]
  },
  {
   "cell_type": "code",
   "execution_count": null,
   "metadata": {},
   "outputs": [],
   "source": [
    "import pandas as pd\n",
    "\n",
    "data=pd.Series([26, 33, 65, 28, 34, 55, 25, 44, 50, \n",
    "                36, 26, 37, 43, 62, 35, 38, 45, 32, 28, 34])\n",
    "\n",
    "data_mean=data.mean()\n",
    "data_std=data.std()\n",
    "\n",
    "print(data_mean)\n",
    "print(data_std)"
   ]
  },
  {
   "cell_type": "code",
   "execution_count": null,
   "metadata": {},
   "outputs": [],
   "source": [
    "sd_1=data_mean+data_std\n",
    "sd_minus1=data_mean-data_std\n",
    "\n",
    "print(\"68% of data will lie from \",sd_minus1, \" to \", sd_1)"
   ]
  },
  {
   "cell_type": "code",
   "execution_count": null,
   "metadata": {},
   "outputs": [],
   "source": [
    "SD_1=[]\n",
    "for i in data:\n",
    "    if ((i>=sd_minus1) & (i<=sd_1)):\n",
    "        SD_1.append(i)\n",
    "\n",
    "print(SD_1)"
   ]
  },
  {
   "cell_type": "code",
   "execution_count": null,
   "metadata": {},
   "outputs": [],
   "source": [
    "sd_2=data_mean+(2*data_std)\n",
    "sd_minus2=data_mean-(2*data_std)\n",
    "\n",
    "print(\"95% of data will lie from \",sd_minus2, \" to \", sd_2)"
   ]
  },
  {
   "cell_type": "code",
   "execution_count": null,
   "metadata": {},
   "outputs": [],
   "source": [
    "SD_2=[]\n",
    "for i in data:\n",
    "    if ((i>=sd_minus2) & (i<=sd_2)):\n",
    "        SD_2.append(i)\n",
    "\n",
    "print(SD_2)"
   ]
  },
  {
   "cell_type": "code",
   "execution_count": null,
   "metadata": {},
   "outputs": [],
   "source": [
    "sd_3=data_mean+(3*data_std)\n",
    "sd_minus3=data_mean-(3*data_std)\n",
    "\n",
    "print(\"99.7% of data will lie from \",sd_minus3, \" to \", sd_3)"
   ]
  },
  {
   "cell_type": "code",
   "execution_count": null,
   "metadata": {},
   "outputs": [],
   "source": [
    "SD_3=[]\n",
    "for i in data:\n",
    "    if ((i>=sd_minus3) & (i<=sd_3)):\n",
    "        SD_3.append(i)\n",
    "\n",
    "print(SD_3)\n"
   ]
  },
  {
   "cell_type": "code",
   "execution_count": null,
   "metadata": {},
   "outputs": [],
   "source": [
    "outliers=[]\n",
    "for i in data:\n",
    "    if ((i<sd_minus3) | (i>sd_3)):\n",
    "        outliers.append(i)\n",
    "\n",
    "print(outliers)"
   ]
  },
  {
   "cell_type": "code",
   "execution_count": null,
   "metadata": {},
   "outputs": [],
   "source": [
    "import seaborn as sns\n",
    "\n",
    "sns.distplot(data)"
   ]
  },
  {
   "cell_type": "markdown",
   "metadata": {},
   "source": [
    "A company makes parts for a machine. The lengths of the parts must be within certain limits or they will be rejected.\n",
    "\n",
    "A large number of parts were measured and the mean and standard deviation were calculated as 3.1 m and 0.005 m respectively.\n",
    "\n",
    "Assuming this data is normally distributed and 99.7% of the parts were accepted, what are the limits?\n",
    "\n",
    "mu=3.1"
   ]
  },
  {
   "cell_type": "code",
   "execution_count": null,
   "metadata": {},
   "outputs": [],
   "source": [
    "mu=3.1\n",
    "std=0.005\n",
    "\n",
    "std_3=mu+(3*std)\n",
    "std_minus3=mu-(3*std)\n",
    "\n",
    "print(\"The acceptable range is:\",std_minus3, \" to \", std_3)"
   ]
  },
  {
   "cell_type": "code",
   "execution_count": null,
   "metadata": {},
   "outputs": [],
   "source": [
    "import numpy as np\n",
    "tt=np.array([26, 33, 65, 28, 34, 55, 25, 44, 50, 36, 26, 37, 43, \n",
    "             62, 35, 38, 45, 32, 28, 34])\n",
    "#Normalization\n",
    "def normalize(data):\n",
    "    xmin=min(data)\n",
    "    xmax=max(data)\n",
    "    norm_data=[]\n",
    "    for i in data:\n",
    "        new_i=(i-xmin)/(xmax-xmin)\n",
    "        norm_data.append(new_i)\n",
    "    return norm_data"
   ]
  },
  {
   "cell_type": "code",
   "execution_count": null,
   "metadata": {},
   "outputs": [],
   "source": [
    "normalize(tt)"
   ]
  },
  {
   "cell_type": "markdown",
   "metadata": {},
   "source": [
    "#### Z-score\n",
    "A z-score measures exactly how many standard deviations above or below the mean a data point is.\n",
    "\n",
    "Some important facts about z-scores:\n",
    "\n",
    "positive z-score says the data point is above average.  \n",
    "negative z-score says the data point is below average.  \n",
    "z-score close to 0, says the data point is close to average.  \n",
    "A data point can be considered unusual if its z-score is above 3 or below −3"
   ]
  },
  {
   "cell_type": "code",
   "execution_count": null,
   "metadata": {},
   "outputs": [],
   "source": [
    "tt=[26, 33, 65, 28, 34, 55, 25, 44, 50, 36, 26, 37, 43, 62, 35, \n",
    "    38, 45, 32, 28, 34]\n",
    "def z_score(data):\n",
    "    data_mean=np.mean(data)\n",
    "    data_std=np.std(data)\n",
    "    std_data=[]\n",
    "    for i in data:\n",
    "        new_i=(i-data_mean)/data_std\n",
    "        std_data.append(new_i)\n",
    "    print(\"Mean is:\", data_mean)\n",
    "    print(\"Std is: \",data_std)\n",
    "    return std_data"
   ]
  },
  {
   "cell_type": "code",
   "execution_count": null,
   "metadata": {},
   "outputs": [],
   "source": [
    "z_score(tt)"
   ]
  },
  {
   "cell_type": "code",
   "execution_count": null,
   "metadata": {},
   "outputs": [],
   "source": [
    "a=z_score(tt)\n",
    "print(np.mean(a))\n",
    "print(np.std(a))"
   ]
  },
  {
   "cell_type": "code",
   "execution_count": null,
   "metadata": {},
   "outputs": [],
   "source": [
    "sns.distplot(a)"
   ]
  },
  {
   "cell_type": "markdown",
   "metadata": {},
   "source": [
    "Calculate the mean and standard deviation and z-scores of these observations."
   ]
  },
  {
   "cell_type": "code",
   "execution_count": null,
   "metadata": {},
   "outputs": [],
   "source": [
    "data = [16.0, 16.0, 30.0, 37.0, 25.0, 22.0, 19.0, 35.0, 27.0, 32.0,\n",
    "34.0, 28.0, 24.0, 35.0, 24.0, 21.0, 32.0, 29.0, 24.0, 35.0,\n",
    "28.0, 29.0, 18.0, 31.0, 28.0, 33.0, 32.0, 24.0, 25.0, 22.0,\n",
    "21.0, 27.0, 41.0, 23.0, 23.0, 16.0, 24.0, 38.0, 26.0, 28.0]\n",
    "# find the mean\n",
    "print(\"Sample Mean: \", np.mean(data))\n",
    "\n",
    "# find the mean\n",
    "print(\"Sample Standard Deviation: \", np.std(data))\n",
    "\n",
    "data=np.array(data)\n",
    "data=data.reshape((len(data),1))\n",
    "from sklearn.preprocessing import StandardScaler\n",
    "scaler=StandardScaler()\n",
    "std_data=scaler.fit_transform(data)\n",
    "print(std_data)"
   ]
  },
  {
   "cell_type": "code",
   "execution_count": null,
   "metadata": {},
   "outputs": [],
   "source": []
  }
 ],
 "metadata": {
  "kernelspec": {
   "display_name": "Python 3",
   "language": "python",
   "name": "python3"
  },
  "language_info": {
   "codemirror_mode": {
    "name": "ipython",
    "version": 3
   },
   "file_extension": ".py",
   "mimetype": "text/x-python",
   "name": "python",
   "nbconvert_exporter": "python",
   "pygments_lexer": "ipython3",
   "version": "3.7.6"
  }
 },
 "nbformat": 4,
 "nbformat_minor": 5
}
